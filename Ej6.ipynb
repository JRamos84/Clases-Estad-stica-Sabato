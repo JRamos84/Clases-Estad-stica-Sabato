{
 "cells": [
  {
   "cell_type": "markdown",
   "id": "aca51808-131f-4ccc-adbb-33e42f964092",
   "metadata": {},
   "source": [
    "## 6.\n",
    "\n",
    "**Ayuda a Fermat**. La solución de Fermat al problema de la división justa de la\n",
    "bolsa es impráctica cuando quedan muchas rondas por jugar ya que implica contar\n",
    "todas las partidas que dan por ganador a uno de los dos jugadores. Afortunadamente con simulaciones Monte Carlo es posible encontrar una solución aproximada. Supongamos que un juego de 51 rondas es interrumpido en la ronda 25 y que Fermat ganó 15 rondas y Pascal 10. Simular el resto de las rondas para decidir cuál jugador gana la partida. Repetir este procedimiento 1000 veces para encontrar la división justa de la bolsa."
   ]
  },
  {
   "cell_type": "code",
   "execution_count": 12,
   "id": "75e2bf27-3600-46c1-aed0-cf37833760ab",
   "metadata": {},
   "outputs": [],
   "source": [
    "import numpy as np\n",
    "import pandas as pd\n",
    "import seaborn as sns"
   ]
  },
  {
   "cell_type": "code",
   "execution_count": 10,
   "id": "5373eef3-11b5-4244-9b39-1773bab47c1e",
   "metadata": {},
   "outputs": [
    {
     "data": {
      "text/html": [
       "<div>\n",
       "<style scoped>\n",
       "    .dataframe tbody tr th:only-of-type {\n",
       "        vertical-align: middle;\n",
       "    }\n",
       "\n",
       "    .dataframe tbody tr th {\n",
       "        vertical-align: top;\n",
       "    }\n",
       "\n",
       "    .dataframe thead th {\n",
       "        text-align: right;\n",
       "    }\n",
       "</style>\n",
       "<table border=\"1\" class=\"dataframe\">\n",
       "  <thead>\n",
       "    <tr style=\"text-align: right;\">\n",
       "      <th></th>\n",
       "      <th>Fermat</th>\n",
       "      <th>Pascal</th>\n",
       "      <th>Division</th>\n",
       "    </tr>\n",
       "  </thead>\n",
       "  <tbody>\n",
       "    <tr>\n",
       "      <th>0</th>\n",
       "      <td>26</td>\n",
       "      <td>25</td>\n",
       "      <td>True</td>\n",
       "    </tr>\n",
       "    <tr>\n",
       "      <th>1</th>\n",
       "      <td>32</td>\n",
       "      <td>19</td>\n",
       "      <td>True</td>\n",
       "    </tr>\n",
       "    <tr>\n",
       "      <th>2</th>\n",
       "      <td>28</td>\n",
       "      <td>23</td>\n",
       "      <td>True</td>\n",
       "    </tr>\n",
       "    <tr>\n",
       "      <th>3</th>\n",
       "      <td>29</td>\n",
       "      <td>22</td>\n",
       "      <td>True</td>\n",
       "    </tr>\n",
       "    <tr>\n",
       "      <th>4</th>\n",
       "      <td>26</td>\n",
       "      <td>25</td>\n",
       "      <td>True</td>\n",
       "    </tr>\n",
       "    <tr>\n",
       "      <th>...</th>\n",
       "      <td>...</td>\n",
       "      <td>...</td>\n",
       "      <td>...</td>\n",
       "    </tr>\n",
       "    <tr>\n",
       "      <th>995</th>\n",
       "      <td>26</td>\n",
       "      <td>25</td>\n",
       "      <td>True</td>\n",
       "    </tr>\n",
       "    <tr>\n",
       "      <th>996</th>\n",
       "      <td>28</td>\n",
       "      <td>23</td>\n",
       "      <td>True</td>\n",
       "    </tr>\n",
       "    <tr>\n",
       "      <th>997</th>\n",
       "      <td>31</td>\n",
       "      <td>20</td>\n",
       "      <td>True</td>\n",
       "    </tr>\n",
       "    <tr>\n",
       "      <th>998</th>\n",
       "      <td>28</td>\n",
       "      <td>23</td>\n",
       "      <td>True</td>\n",
       "    </tr>\n",
       "    <tr>\n",
       "      <th>999</th>\n",
       "      <td>28</td>\n",
       "      <td>23</td>\n",
       "      <td>True</td>\n",
       "    </tr>\n",
       "  </tbody>\n",
       "</table>\n",
       "<p>1000 rows × 3 columns</p>\n",
       "</div>"
      ],
      "text/plain": [
       "     Fermat  Pascal  Division\n",
       "0        26      25      True\n",
       "1        32      19      True\n",
       "2        28      23      True\n",
       "3        29      22      True\n",
       "4        26      25      True\n",
       "..      ...     ...       ...\n",
       "995      26      25      True\n",
       "996      28      23      True\n",
       "997      31      20      True\n",
       "998      28      23      True\n",
       "999      28      23      True\n",
       "\n",
       "[1000 rows x 3 columns]"
      ]
     },
     "execution_count": 10,
     "metadata": {},
     "output_type": "execute_result"
    }
   ],
   "source": [
    "def DivisionJusta(n_rondas = 51, n_inter = 25, F_inter = 15, P_inter = 10):\n",
    "  # se tira la moneda (n_rondas - n_inter) veces\n",
    "  coin_toss = np.random.choice([0,1], size = n_rondas - n_inter)\n",
    "  F_win = F_inter + np.sum(coin_toss == 1)\n",
    "  P_win = P_inter + np.sum(coin_toss == 0)\n",
    "  # 1 significa que ganó F y 0 que ganó P y se le suma a las rondas que ya tienen ganadas\n",
    "  return {\"Fermat\": F_win, \"Pascal\": P_win, \"Division\": F_win > P_win}\n",
    "jugadas = []\n",
    "i = 0\n",
    "while i < 1000:\n",
    "  i+=1\n",
    "  jugadas.append(DivisionJusta())\n",
    "  \n",
    "Resultado = pd.DataFrame(jugadas)\n",
    "Resultado"
   ]
  },
  {
   "cell_type": "code",
   "execution_count": 11,
   "id": "a8896eb0",
   "metadata": {},
   "outputs": [
    {
     "data": {
      "text/plain": [
       "Division\n",
       "False    125\n",
       "True     875\n",
       "dtype: int64"
      ]
     },
     "execution_count": 11,
     "metadata": {},
     "output_type": "execute_result"
    }
   ],
   "source": [
    "Resultado.groupby('Division').size()"
   ]
  },
  {
   "cell_type": "code",
   "execution_count": null,
   "id": "59ed2b1f",
   "metadata": {},
   "outputs": [],
   "source": [
    "Resultado.groupby('Division').size()"
   ]
  },
  {
   "cell_type": "code",
   "execution_count": 13,
   "id": "3e1a7031",
   "metadata": {},
   "outputs": [
    {
     "data": {
      "text/plain": [
       "<Axes: xlabel='Division'>"
      ]
     },
     "execution_count": 13,
     "metadata": {},
     "output_type": "execute_result"
    },
    {
     "data": {
      "image/png": "[encoded data removed]",
      "text/plain": [
       "<Figure size 640x480 with 1 Axes>"
      ]
     },
     "metadata": {},
     "output_type": "display_data"
    }
   ],
   "source": [
    "sns.barplot(Resultado.groupby('Division').size())"
   ]
  },
  {
   "cell_type": "code",
   "execution_count": null,
   "id": "0b3c0c87",
   "metadata": {},
   "outputs": [],
   "source": []
  },
  {
   "cell_type": "code",
   "execution_count": null,
   "id": "aa40c6f4-70d4-473c-b656-dc49d5ccadc9",
   "metadata": {},
   "outputs": [],
   "source": []
  }
 ],
 "metadata": {
  "kernelspec": {
   "display_name": "Python 3 (ipykernel)",
   "language": "python",
   "name": "python3"
  },
  "language_info": {
   "codemirror_mode": {
    "name": "ipython",
    "version": 3
   },
   "file_extension": ".py",
   "mimetype": "text/x-python",
   "name": "python",
   "nbconvert_exporter": "python",
   "pygments_lexer": "ipython3",
   "version": "3.11.5"
  }
 },
 "nbformat": 4,
 "nbformat_minor": 5
}
